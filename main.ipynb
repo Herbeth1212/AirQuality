{
 "cells": [
  {
   "cell_type": "code",
   "execution_count": 1,
   "id": "2aeec539",
   "metadata": {},
   "outputs": [
    {
     "name": "stderr",
     "output_type": "stream",
     "text": [
      "c:\\Python312\\Lib\\site-packages\\tqdm\\auto.py:21: TqdmWarning: IProgress not found. Please update jupyter and ipywidgets. See https://ipywidgets.readthedocs.io/en/stable/user_install.html\n",
      "  from .autonotebook import tqdm as notebook_tqdm\n",
      "Importing plotly failed. Interactive plots will not work.\n"
     ]
    }
   ],
   "source": [
    "import pandas as pd\n",
    "import numpy as np\n",
    "import matplotlib.pyplot as plt\n",
    "import seaborn as sns\n",
    "import requests\n",
    "from openaq import OpenAQ\n",
    "from datetime import datetime\n",
    "from prophet import Prophet\n",
    "import folium\n",
    "import time\n",
    "import os\n",
    "from dotenv import load_dotenv"
   ]
  },
  {
   "cell_type": "code",
   "execution_count": null,
   "id": "13273647",
   "metadata": {},
   "outputs": [
    {
     "data": {
      "text/plain": [
       "True"
      ]
     },
     "execution_count": 2,
     "metadata": {},
     "output_type": "execute_result"
    }
   ],
   "source": [
    "#loading health data\n",
    "health_data = pd.read_csv(\"Cases_data.csv\")"
   ]
  },
  {
   "cell_type": "code",
   "execution_count": 3,
   "id": "baad0265",
   "metadata": {},
   "outputs": [
    {
     "name": "stdout",
     "output_type": "stream",
     "text": [
      "Fetched page 1, total records: 36\n",
      "   value             flagInfo  \\\n",
      "0  211.0  {'hasFlags': False}   \n",
      "1  154.0  {'hasFlags': False}   \n",
      "2   88.6  {'hasFlags': False}   \n",
      "3   72.6  {'hasFlags': False}   \n",
      "4   48.7  {'hasFlags': False}   \n",
      "\n",
      "                                           parameter  \\\n",
      "0  {'id': 2, 'name': 'pm25', 'units': 'µg/m³', 'd...   \n",
      "1  {'id': 2, 'name': 'pm25', 'units': 'µg/m³', 'd...   \n",
      "2  {'id': 2, 'name': 'pm25', 'units': 'µg/m³', 'd...   \n",
      "3  {'id': 2, 'name': 'pm25', 'units': 'µg/m³', 'd...   \n",
      "4  {'id': 2, 'name': 'pm25', 'units': 'µg/m³', 'd...   \n",
      "\n",
      "                                              period coordinates  \\\n",
      "0  {'label': '1 month', 'interval': '1 month', 'd...        None   \n",
      "1  {'label': '1 month', 'interval': '1 month', 'd...        None   \n",
      "2  {'label': '1 month', 'interval': '1 month', 'd...        None   \n",
      "3  {'label': '1 month', 'interval': '1 month', 'd...        None   \n",
      "4  {'label': '1 month', 'interval': '1 month', 'd...        None   \n",
      "\n",
      "                                             summary  \\\n",
      "0  {'min': 70.79166412353516, 'q02': 80.566667175...   \n",
      "1  {'min': 47.71428680419922, 'q02': 51.357143402...   \n",
      "2  {'min': 46.78260803222656, 'q02': 54.913042449...   \n",
      "3  {'min': 32.11111068725586, 'q02': 33.333610916...   \n",
      "4  {'min': 18.714284896850586, 'q02': 18.82761833...   \n",
      "\n",
      "                                            coverage  \n",
      "0  {'expectedCount': 31, 'expectedInterval': '744...  \n",
      "1  {'expectedCount': 28, 'expectedInterval': '672...  \n",
      "2  {'expectedCount': 31, 'expectedInterval': '744...  \n",
      "3  {'expectedCount': 30, 'expectedInterval': '720...  \n",
      "4  {'expectedCount': 31, 'expectedInterval': '744...  \n",
      "Saved 36 records to delhi_pm25_2021_2023.csv\n"
     ]
    }
   ],
   "source": [
    "#loading airquality data\n",
    "load_dotenv(dotenv_path=\".gitignore/.env\")  # this loads .env file\n",
    "\n",
    "API_KEY = os.getenv(\"API_KEY\")\n",
    "\n",
    "headers = {\n",
    "    \"X-API-Key\": API_KEY\n",
    "}\n",
    "headers = {\n",
    "    'accept': 'application/json',\n",
    "    'X-API-KEY': os.getenv(\"API_KEY\")\n",
    "}\n",
    "\n",
    "params = {\n",
    "    'date_to': '2023-12-31T23:59:59Z',\n",
    "    'date_from': '2021-01-01T00:00:00Z',\n",
    "    'limit': 1000,\n",
    "    'page': 1,\n",
    "}\n",
    "\n",
    "\n",
    "# To store all results\n",
    "all_data = []\n",
    "\n",
    "while True:\n",
    "    response = requests.get('https://api.openaq.org/v3/sensors/23534/days/monthly', params=params, headers=headers)\n",
    "\n",
    "    if response.status_code != 200:\n",
    "        print(\"Error:\", response.status_code, response.text)\n",
    "        break\n",
    "\n",
    "    data = response.json()\n",
    "    results = data.get(\"results\", [])\n",
    "\n",
    "    if not results:\n",
    "        break\n",
    "\n",
    "    all_data.extend(results)\n",
    "    print(f\"Fetched page {params['page']}, total records: {len(all_data)}\")\n",
    "\n",
    "    # Check if there is a next page\n",
    "    meta = data.get(\"meta\", {})\n",
    "    if not meta.get(\"found\") or (params['page'] * params['limit'] >= meta.get(\"found\", 0)):\n",
    "        break\n",
    "\n",
    "    params[\"page\"] += 1\n",
    "\n",
    "# Convert to DataFrame\n",
    "df = pd.DataFrame(all_data)\n",
    "\n",
    "# Show a sample\n",
    "print(df.head())\n",
    "\n",
    "# Save to CSV\n",
    "df.to_csv(\"delhi_pm25_2021_2023.csv\", index=False)\n",
    "print(f\"Saved {len(df)} records to delhi_pm25_2021_2023.csv\")\n",
    "\n",
    "#data_cleaning\n",
    "df['date_from'] = df['period'].apply(\n",
    "    lambda d: pd.to_datetime(d['datetimeFrom']['local']).strftime(\"%d-%m-%y\")\n",
    ")\n",
    "df['date_to'] = df['period'].apply(\n",
    "    lambda d: pd.to_datetime(d['datetimeTo']['local']).strftime(\"%d-%m-%y\")\n",
    ")\n",
    "\n",
    "airQuality_data = pd.read_csv(\"delhi_pm25_2021_2023.csv\")"
   ]
  },
  {
   "cell_type": "code",
   "execution_count": null,
   "id": "cf0bd1d1",
   "metadata": {},
   "outputs": [],
   "source": [
    "#data_cleaning of delhi_pm25 file\n",
    "df['date_from'] = df['period'].apply(\n",
    "    lambda d: pd.to_datetime(d['datetimeFrom']['local']).strftime(\"%d-%m-%y\")\n",
    ")\n",
    "df['date_to'] = df['period'].apply(\n",
    "    lambda d: pd.to_datetime(d['datetimeTo']['local']).strftime(\"%d-%m-%y\")\n",
    ")\n",
    "\n",
    "airQuality_data = pd.read_csv(\"delhi_pm25_2021_2023.csv\")"
   ]
  },
  {
   "cell_type": "code",
   "execution_count": 4,
   "id": "a4a1a2ad",
   "metadata": {},
   "outputs": [
    {
     "name": "stdout",
     "output_type": "stream",
     "text": [
      "0     01-01-21\n",
      "1     01-02-21\n",
      "2     01-03-21\n",
      "3     01-04-21\n",
      "4     01-05-21\n",
      "5     01-06-21\n",
      "6     01-07-21\n",
      "7     01-08-21\n",
      "8     01-09-21\n",
      "9     01-10-21\n",
      "10    01-11-21\n",
      "11    01-12-21\n",
      "12    01-01-22\n",
      "13    01-02-22\n",
      "14    01-03-22\n",
      "15    01-04-22\n",
      "16    01-05-22\n",
      "17    01-06-22\n",
      "18    01-07-22\n",
      "19    01-08-22\n",
      "20    01-09-22\n",
      "21    01-10-22\n",
      "22    01-11-22\n",
      "23    01-12-22\n",
      "24    01-01-23\n",
      "25    01-02-23\n",
      "26    01-03-23\n",
      "27    01-04-23\n",
      "28    01-05-23\n",
      "29    01-06-23\n",
      "30    01-07-23\n",
      "31    01-08-23\n",
      "32    01-09-23\n",
      "33    01-10-23\n",
      "34    01-11-23\n",
      "Name: date, dtype: object\n"
     ]
    }
   ],
   "source": [
    "#data cleaning of cases data\n",
    "df = pd.read_csv(\"Cases_data.csv\")\n",
    "\n",
    "df[\"date\"] = pd.to_datetime(\n",
    "    df[\"Month\"].astype(str) + \" \" + df[\"Year\"].astype(str) + \" 01\",\n",
    "    format=\"%B %Y %d\",   # Use %b instead of %B if months are in short form (Jan, Feb)\n",
    "    errors=\"coerce\"      # In case there are invalid values\n",
    ")\n",
    "\n",
    "# Convert to dd-mm-yy\n",
    "df[\"date\"] = df[\"date\"].dt.strftime(\"%d-%m-%y\")\n",
    "df.to_csv(\"Cases_data.csv\", index=False)\n",
    "print(df[\"date\"])"
   ]
  }
 ],
 "metadata": {
  "kernelspec": {
   "display_name": "Python 3",
   "language": "python",
   "name": "python3"
  },
  "language_info": {
   "codemirror_mode": {
    "name": "ipython",
    "version": 3
   },
   "file_extension": ".py",
   "mimetype": "text/x-python",
   "name": "python",
   "nbconvert_exporter": "python",
   "pygments_lexer": "ipython3",
   "version": "3.12.3"
  }
 },
 "nbformat": 4,
 "nbformat_minor": 5
}
